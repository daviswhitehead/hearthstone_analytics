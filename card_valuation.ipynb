{
 "cells": [
  {
   "cell_type": "code",
   "execution_count": 1,
   "metadata": {
    "collapsed": false
   },
   "outputs": [
    {
     "name": "stderr",
     "output_type": "stream",
     "text": [
      "/Users/dwhitehead/Documents/github/hearthstone_analytics/vhearthstone_analytics/lib/python2.7/site-packages/matplotlib/font_manager.py:273: UserWarning: Matplotlib is building the font cache using fc-list. This may take a moment.\n",
      "  warnings.warn('Matplotlib is building the font cache using fc-list. This may take a moment.')\n"
     ]
    }
   ],
   "source": [
    "%matplotlib inline\n",
    "import matplotlib.pyplot as plt\n",
    "import pandas as pd\n",
    "import numpy as np\n",
    "import statsmodels.formula.api as sm\n",
    "from sklearn.cross_validation import train_test_split\n",
    "from sklearn import linear_model\n",
    "from sklearn.cross_validation import cross_val_predict\n",
    "import re"
   ]
  },
  {
   "cell_type": "code",
   "execution_count": 2,
   "metadata": {
    "collapsed": true
   },
   "outputs": [],
   "source": [
    "def load_data(wdir):\n",
    "    filename = wdir + 'clean_cards.csv'\n",
    "    df = pd.DataFrame.from_csv(filename, sep='\\t', encoding='utf-8')\n",
    "    return df"
   ]
  },
  {
   "cell_type": "code",
   "execution_count": 3,
   "metadata": {
    "collapsed": true
   },
   "outputs": [],
   "source": [
    "def filter_data(df):\n",
    "    # remove non-minions\n",
    "    df = df[df['type'].isin(['minion'])]\n",
    "    \n",
    "    # remove cost outliers\n",
    "    df = df[df['cost'] <= 10]\n",
    "    \n",
    "    # remove boss\n",
    "    df['text'].fillna(\n",
    "        value='',\n",
    "        inplace=True\n",
    "    )\n",
    "    df['boss'] = df['text'].apply(lambda x: 1 if 'boss' in x else 0)\n",
    "    df = df[df['boss'] == 0]\n",
    "    \n",
    "    # remove weird sets\n",
    "    collectibles = ['core', 'expert1', 'naxx', 'gvg', 'brm', 'tgt', 'loe', 'promo', 'reward', 'og']\n",
    "    collectibles = ['core']\n",
    "    df = df[df['set'].isin(collectibles)]\n",
    "    \n",
    "    # removing individual cards\n",
    "    boss_cards = ['animated_statue']\n",
    "    removed_cards = ['avatar_of_the_coin']\n",
    "    outliers = ['the_ancient_one']\n",
    "    hero_summons = [\n",
    "        'searing_totem',\n",
    "        'stoneclaw_totem',\n",
    "        'wrath_of_air_totem',\n",
    "        'healing_totem',\n",
    "        'silver_hand_recruit'\n",
    "    ]\n",
    "    card_exclusions = boss_cards + removed_cards + outliers + hero_summons\n",
    "    df = df[~df['name'].isin(card_exclusions)]\n",
    "    \n",
    "    return df"
   ]
  },
  {
   "cell_type": "code",
   "execution_count": 43,
   "metadata": {
    "collapsed": false
   },
   "outputs": [],
   "source": [
    "def add_features(df):\n",
    "    # card draw\n",
    "    df['self_card_draw'] = df['text'].apply(\n",
    "        lambda x: 1 if ('draw' in x\n",
    "            and 'card' in x\n",
    "            and 'opponent' not in x\n",
    "        ) else 0\n",
    "    )\n",
    "    # health\n",
    "    df['self_restore_health'] = df['text'].apply(\n",
    "        lambda x: int(\n",
    "            x[x.find('_health')-1:x.find('_health')]\n",
    "        ) if ('restore' in x\n",
    "            and 'health' in x\n",
    "            and 'opponent' not in x\n",
    "        ) else 0\n",
    "    )\n",
    "    # damage\n",
    "    df['deal_damage'] = df['text'].apply(\n",
    "        lambda x: int(\n",
    "            x[x.find('_damage')-1:x.find('_damage')]\n",
    "        ) if ('deal' in x and 'damage' in x) else 0\n",
    "    )\n",
    "    # attack buff\n",
    "    df['attack_buff'] = df['text'].apply(\n",
    "        lambda x: int(\n",
    "            x[x.find('_attack')-1:x.find('_attack')]\n",
    "        ) if ('+' in x and 'attack' in x) else 0\n",
    "    )\n",
    "    # attack buff range\n",
    "    # spell damage\n",
    "    df['spell_damage'] = df['text'].apply(\n",
    "        lambda x: int(\n",
    "            x[x.find('spell_damage_+') + len('spell_damage_+'):x.find('spell_damage_+') + len('spell_damage_+') + 1]\n",
    "        ) if ('spell_damage_+' in x) else 0\n",
    "    )\n",
    "    # summon\n",
    "    df['self_summon'] = df['text'].apply(\n",
    "        lambda x: int(\n",
    "            x[x.find('_summon_a_') + len('_summon_a_'):x.find('_summon_a_') + len('_summon_a_') + 3]\n",
    "        ) if ('_summon_a_' in x and 'opponent' not in x) else 0\n",
    "    )\n",
    "    # other ability\n",
    "    df['other_ability'] = df['text'].apply(\n",
    "        lambda x: int(x[x.find('_damage')-1:x.find('_damage')]) if ('deal' in x\n",
    "            and 'damage' in x\n",
    "        ) else 0\n",
    "    )\n",
    "    # other ability\n",
    "    df['other_ability'] = df['text'].apply(\n",
    "        lambda x: int(x[x.find('_damage')-1:x.find('_damage')]) if ('deal' in x\n",
    "            and 'damage' in x\n",
    "        ) else 0\n",
    "    )\n",
    "    # other ability\n",
    "    df['other_ability'] = df['text'].apply(\n",
    "        lambda x: int(x[x.find('_damage')-1:x.find('_damage')]) if ('deal' in x\n",
    "            and 'damage' in x\n",
    "        ) else 0\n",
    "    )\n",
    "    \n",
    "    \n",
    "    return df"
   ]
  },
  {
   "cell_type": "code",
   "execution_count": 45,
   "metadata": {
    "collapsed": false
   },
   "outputs": [
    {
     "name": "stdout",
     "output_type": "stream",
     "text": [
      "                   name  battlecry  self_card_draw  self_restore_health  \\\n",
      "373   northshire_cleric          0               1                    0   \n",
      "696                frog          0               0                    0   \n",
      "798        elven_archer          1               0                    0   \n",
      "1027              sheep          0               0                    0   \n",
      "1146      voodoo_doctor          1               0                    2   \n",
      "1433  murloc_tidehunter          1               0                    0   \n",
      "1667   kobold_geomancer          0               0                    0   \n",
      "\n",
      "      deal_damage  spellDamage  attack_buff  \n",
      "373             0            0            0  \n",
      "696             0            0            0  \n",
      "798             1            0            0  \n",
      "1027            0            0            0  \n",
      "1146            0            0            0  \n",
      "1433            0            0            0  \n",
      "1667            0            1            0  \n"
     ]
    }
   ],
   "source": [
    "minions = ['murloc_tidehunter', 'sheep', 'northshire_cleric', 'frog', 'voodoo_doctor', 'elven_archer', 'kobold_geomancer']\n",
    "df = add_features(df)\n",
    "addl_cols = ['name', 'battlecry', 'self_card_draw', 'self_restore_health', 'deal_damage', 'spellDamage', 'attack_buff']\n",
    "# print df['self_card_draw'].sample(5)\n",
    "print df[df['name'].isin(minions)][addl_cols]"
   ]
  },
  {
   "cell_type": "code",
   "execution_count": 11,
   "metadata": {
    "collapsed": true
   },
   "outputs": [],
   "source": [
    "def train_cv_test_split(df, split_sizes=[1.0, 0.0, 0.0]):\n",
    "    assert sum(split_sizes) == 1\n",
    "    train_size = split_sizes[0]\n",
    "    cv_size = split_sizes[1]\n",
    "    test_size = split_sizes[2]\n",
    "    train, test = train_test_split(df, test_size=test_size)\n",
    "    train, cv = train_test_split(train, test_size=cv_size)\n",
    "    return train, cv, test"
   ]
  },
  {
   "cell_type": "code",
   "execution_count": 5,
   "metadata": {
    "collapsed": true
   },
   "outputs": [],
   "source": [
    "def human_readable_coefficients(df, predictor):\n",
    "    return pd.DataFrame(\n",
    "        zip(df.columns, predictor.coef_[0]),\n",
    "        columns=['features', 'predicted_coefficients']\n",
    "    )"
   ]
  },
  {
   "cell_type": "code",
   "execution_count": null,
   "metadata": {
    "collapsed": true
   },
   "outputs": [],
   "source": [
    "# regex examples\n",
    "# >>> re.findall(r'\\d+', '<b>battlecry:</b>_summon_a_1/1_murloc_scout.')\n",
    "# ['1', '1']"
   ]
  },
  {
   "cell_type": "code",
   "execution_count": 6,
   "metadata": {
    "collapsed": false
   },
   "outputs": [
    {
     "name": "stdout",
     "output_type": "stream",
     "text": [
      "      cost\n",
      "1621   4.0\n",
      "198    6.0\n",
      "13     2.0\n",
      "316    1.0\n",
      "1283   6.0\n",
      "      attack  health  charge  taunt  stealth  divine_shield  intercept\n",
      "2043     4.0     3.0       0      0        0              0          1\n",
      "1524     2.0     4.0       0      0        0              0          1\n",
      "1866     2.0     2.0       0      1        0              0          1\n",
      "798      1.0     1.0       0      0        0              0          1\n",
      "1769     1.0     2.0       0      1        0              0          1\n"
     ]
    }
   ],
   "source": [
    "wdir = '/Users/dwhitehead/Documents/github/hearthstone_analytics/'\n",
    "df_og = load_data(wdir)\n",
    "df = filter_data(df_og)\n",
    "df = add_features(df)\n",
    "df['intercept'] = 1\n",
    "dep_var = ['cost']\n",
    "indep_vars = [\n",
    "    'attack',\n",
    "    'health',\n",
    "    'charge',\n",
    "    'taunt',\n",
    "    'stealth',\n",
    "    'divine_shield',\n",
    "    'intercept'\n",
    "]\n",
    "print df[dep_var].sample(5)\n",
    "print df[indep_vars].sample(5)"
   ]
  },
  {
   "cell_type": "code",
   "execution_count": 7,
   "metadata": {
    "collapsed": false
   },
   "outputs": [
    {
     "name": "stderr",
     "output_type": "stream",
     "text": [
      "/Users/dwhitehead/Documents/github/hearthstone_analytics/vhearthstone_analytics/lib/python2.7/site-packages/scipy/linalg/basic.py:884: RuntimeWarning: internal gelsd driver lwork query error, required iwork dimension not returned. This is likely the result of LAPACK bug 0038, fixed in LAPACK 3.2.2 (released July 21, 2010). Falling back to 'gelss' driver.\n",
      "  warnings.warn(mesg, RuntimeWarning)\n"
     ]
    },
    {
     "data": {
      "text/html": [
       "<div>\n",
       "<table border=\"1\" class=\"dataframe\">\n",
       "  <thead>\n",
       "    <tr style=\"text-align: right;\">\n",
       "      <th></th>\n",
       "      <th>features</th>\n",
       "      <th>predicted_coefficients</th>\n",
       "    </tr>\n",
       "  </thead>\n",
       "  <tbody>\n",
       "    <tr>\n",
       "      <th>0</th>\n",
       "      <td>attack</td>\n",
       "      <td>0.568349</td>\n",
       "    </tr>\n",
       "    <tr>\n",
       "      <th>1</th>\n",
       "      <td>health</td>\n",
       "      <td>0.512580</td>\n",
       "    </tr>\n",
       "    <tr>\n",
       "      <th>2</th>\n",
       "      <td>charge</td>\n",
       "      <td>0.473374</td>\n",
       "    </tr>\n",
       "    <tr>\n",
       "      <th>3</th>\n",
       "      <td>taunt</td>\n",
       "      <td>-0.455974</td>\n",
       "    </tr>\n",
       "    <tr>\n",
       "      <th>4</th>\n",
       "      <td>stealth</td>\n",
       "      <td>0.000000</td>\n",
       "    </tr>\n",
       "    <tr>\n",
       "      <th>5</th>\n",
       "      <td>divine_shield</td>\n",
       "      <td>0.000000</td>\n",
       "    </tr>\n",
       "    <tr>\n",
       "      <th>6</th>\n",
       "      <td>intercept</td>\n",
       "      <td>0.000000</td>\n",
       "    </tr>\n",
       "  </tbody>\n",
       "</table>\n",
       "</div>"
      ],
      "text/plain": [
       "        features  predicted_coefficients\n",
       "0         attack                0.568349\n",
       "1         health                0.512580\n",
       "2         charge                0.473374\n",
       "3          taunt               -0.455974\n",
       "4        stealth                0.000000\n",
       "5  divine_shield                0.000000\n",
       "6      intercept                0.000000"
      ]
     },
     "execution_count": 7,
     "metadata": {},
     "output_type": "execute_result"
    }
   ],
   "source": [
    "lr = linear_model.LinearRegression(\n",
    "    fit_intercept=True,\n",
    "    normalize=False,\n",
    "    copy_X=True,\n",
    "    n_jobs=1\n",
    ")\n",
    "lr.fit(\n",
    "    X=df[indep_vars],\n",
    "    y=df[dep_var]\n",
    ")\n",
    "df_coefficients = human_readable_coefficients(\n",
    "    df[indep_vars],\n",
    "    lr\n",
    ")\n",
    "df['predictions'] = lr.predict(df[indep_vars])\n",
    "colss = dep_var + indep_vars + ['name', 'predictions']\n",
    "df_coefficients"
   ]
  },
  {
   "cell_type": "code",
   "execution_count": 8,
   "metadata": {
    "collapsed": false
   },
   "outputs": [
    {
     "name": "stdout",
     "output_type": "stream",
     "text": [
      "                            OLS Regression Results                            \n",
      "==============================================================================\n",
      "Dep. Variable:                   cost   R-squared:                       0.862\n",
      "Model:                            OLS   Adj. R-squared:                  0.853\n",
      "Method:                 Least Squares   F-statistic:                     100.0\n",
      "Date:                Sun, 15 May 2016   Prob (F-statistic):           8.33e-27\n",
      "Time:                        14:31:48   Log-Likelihood:                -77.153\n",
      "No. Observations:                  69   AIC:                             164.3\n",
      "Df Residuals:                      64   BIC:                             175.5\n",
      "Df Model:                           4                                         \n",
      "Covariance Type:            nonrobust                                         \n",
      "=================================================================================\n",
      "                    coef    std err          t      P>|t|      [95.0% Conf. Int.]\n",
      "---------------------------------------------------------------------------------\n",
      "attack            0.5683      0.061      9.348      0.000         0.447     0.690\n",
      "health            0.5126      0.061      8.412      0.000         0.391     0.634\n",
      "charge            0.4734      0.319      1.485      0.142        -0.163     1.110\n",
      "taunt            -0.4560      0.248     -1.839      0.071        -0.951     0.039\n",
      "stealth                0          0        nan        nan             0         0\n",
      "divine_shield          0          0        nan        nan             0         0\n",
      "intercept         0.0089      0.202      0.044      0.965        -0.394     0.412\n",
      "==============================================================================\n",
      "Omnibus:                        3.609   Durbin-Watson:                   1.961\n",
      "Prob(Omnibus):                  0.165   Jarque-Bera (JB):                2.769\n",
      "Skew:                           0.446   Prob(JB):                        0.251\n",
      "Kurtosis:                       3.407   Cond. No.                          inf\n",
      "==============================================================================\n",
      "\n",
      "Warnings:\n",
      "[1] Standard Errors assume that the covariance matrix of the errors is correctly specified.\n",
      "[2] The smallest eigenvalue is      0. This might indicate that there are\n",
      "strong multicollinearity problems or that the design matrix is singular.\n"
     ]
    }
   ],
   "source": [
    "smlr = sm.OLS(df[dep_var], df[indep_vars])\n",
    "result = smlr.fit()\n",
    "print result.summary()"
   ]
  },
  {
   "cell_type": "code",
   "execution_count": 9,
   "metadata": {
    "collapsed": false
   },
   "outputs": [
    {
     "name": "stdout",
     "output_type": "stream",
     "text": [
      "[('red', 'attack'), ('blue', 'health'), ('green', 'charge'), ('yellow', 'taunt'), ('pink', 'stealth'), ('grey', 'divine_shield')]\n"
     ]
    },
    {
     "data": {
      "image/png": "[encoded data removed]",
      "text/plain": [
       "<matplotlib.figure.Figure at 0x107f7b850>"
      ]
     },
     "metadata": {},
     "output_type": "display_data"
    }
   ],
   "source": [
    "colors = [\n",
    "    'red',\n",
    "    'blue',\n",
    "    'green',\n",
    "    'yellow',\n",
    "    'pink',\n",
    "    'grey'\n",
    "]\n",
    "print zip(colors, indep_vars[:-1])\n",
    "fig, ax = plt.subplots()\n",
    "fig.set_size_inches(18.5, 10.5)\n",
    "ax.scatter(\n",
    "    x=df['cost'],\n",
    "    y=df['predictions'],\n",
    "    color='black'\n",
    ")\n",
    "for i, var in enumerate(indep_vars[:-1]):\n",
    "    ax.scatter(\n",
    "        x=df[df[var] == 1]['cost'],\n",
    "        y=df[df[var] == 1]['predictions'],\n",
    "        color=colors[i]\n",
    "    )\n",
    "for index, row in df.iterrows():\n",
    "    ax.annotate(\n",
    "        row['name'],\n",
    "        xy= (float(row['cost']), float(row['predictions']))\n",
    "    )\n",
    "plt.show()"
   ]
  },
  {
   "cell_type": "code",
   "execution_count": 13,
   "metadata": {
    "collapsed": false,
    "scrolled": false
   },
   "outputs": [
    {
     "name": "stdout",
     "output_type": "stream",
     "text": [
      "\n",
      "cost 0\n",
      "--------------------\n",
      "mean 0.705821132042\n",
      "std 0.490320769564\n",
      "-----\n",
      "name sheep\n",
      "text \n",
      "dev 0.783194282348\n",
      "-----\n",
      "name murloc_scout\n",
      "text \n",
      "dev 0.783194282348\n",
      "-----\n",
      "name mirror_image\n",
      "text <b>taunt</b>\n",
      "dev -0.260496059474\n",
      "-----\n",
      "name frog\n",
      "text <b>taunt</b>\n",
      "dev -1.30589250522\n",
      "\n",
      "cost 1\n",
      "--------------------\n",
      "mean 1.4089517278\n",
      "std 0.350229107972\n",
      "-----\n",
      "name northshire_cleric\n",
      "text whenever_a_minion_is_healed,_draw_a_card.\n",
      "dev 2.01595181829\n",
      "-----\n",
      "name voidwalker\n",
      "text <b>taunt</b>\n",
      "dev 0.714021192644\n",
      "-----\n",
      "name voodoo_doctor\n",
      "text <b>battlecry:</b>_restore_2_health.\n",
      "dev 0.711632647058\n",
      "-----\n",
      "name murloc_raider\n",
      "text \n",
      "dev 0.711632647058\n",
      "-----\n",
      "name mechanical_dragonling\n",
      "text \n",
      "dev 0.711632647058\n",
      "-----\n",
      "name stonetusk_boar\n",
      "text <b>charge</b>\n",
      "dev 0.440454632511\n",
      "-----\n",
      "name goldshire_footman\n",
      "text <b>taunt</b>\n",
      "dev -0.749533886331\n",
      "-----\n",
      "name boar\n",
      "text \n",
      "dev -0.911158339658\n",
      "-----\n",
      "name elven_archer\n",
      "text <b>battlecry:</b>_deal_1_damage.\n",
      "dev -0.911158339658\n",
      "-----\n",
      "name skeleton\n",
      "text <b></b>_\n",
      "dev -0.911158339658\n",
      "-----\n",
      "name grimscale_oracle\n",
      "text all_other_murlocs_have_+1_attack.\n",
      "dev -0.911158339658\n",
      "-----\n",
      "name timber_wolf\n",
      "text your_other_beasts_have_+1_attack.\n",
      "dev -0.911158339658\n",
      "\n",
      "cost 2\n",
      "--------------------\n",
      "mean 2.22934066912\n",
      "std 0.790548201131\n",
      "-----\n",
      "name succubus\n",
      "text <b>battlecry:</b>_discard_a_random_card.\n",
      "dev 2.0121505337\n",
      "-----\n",
      "name acidic_swamp_ooze\n",
      "text <b>battlecry:</b>_destroy_your_opponent's_weapon.\n",
      "dev 0.64483576664\n",
      "-----\n",
      "name bloodfen_raptor\n",
      "text \n",
      "dev 0.64483576664\n",
      "-----\n",
      "name river_crocolisk\n",
      "text \n",
      "dev 0.574290985379\n",
      "-----\n",
      "name kobold_geomancer\n",
      "text <b>spell_damage_+1</b>\n",
      "dev -0.0740940075215\n",
      "-----\n",
      "name bluegill_warrior\n",
      "text <b>charge</b>\n",
      "dev -0.123686662536\n",
      "-----\n",
      "name frostwolf_grunt\n",
      "text <b>taunt</b>\n",
      "dev -0.650876044354\n",
      "-----\n",
      "name murloc_tidehunter\n",
      "text <b>battlecry:</b>_summon_a_1/1_murloc_scout.\n",
      "dev -0.722479000422\n",
      "-----\n",
      "name flametongue_totem\n",
      "text adjacent_minions_have_+2_attack.\n",
      "dev -0.863568562945\n",
      "-----\n",
      "name novice_engineer\n",
      "text <b>battlecry:</b>_draw_a_card.\n",
      "dev -1.44140877458\n",
      "\n",
      "cost 3\n",
      "--------------------\n",
      "mean 2.84298361797\n",
      "std 0.564847075535\n",
      "-----\n",
      "name misha\n",
      "text <b>taunt</b>\n",
      "dev 1.82999022011\n",
      "-----\n",
      "name huffer\n",
      "text <b>charge</b>\n",
      "dev 1.66036736735\n",
      "-----\n",
      "name magma_rager\n",
      "text \n",
      "dev 0.921043090515\n",
      "-----\n",
      "name leokk\n",
      "text your_other_minions_have_+1_attack.\n",
      "dev 0.624844071306\n",
      "-----\n",
      "name ironfur_grizzly\n",
      "text <b>taunt</b>\n",
      "dev -0.083675046649\n",
      "-----\n",
      "name shattered_sun_cleric\n",
      "text <b>battlecry:</b>_give_a_friendly_minion_+1/+1.\n",
      "dev -0.183889052469\n",
      "-----\n",
      "name wolfrider\n",
      "text <b>charge</b>\n",
      "dev -0.253297899411\n",
      "-----\n",
      "name warsong_commander\n",
      "text your_<b>charge</b>_minions_have_+1_attack.\n",
      "dev -0.282622058872\n",
      "-----\n",
      "name razorfen_hunter\n",
      "text <b>battlecry:</b>_summon_a_1/1_boar.\n",
      "dev -0.282622058872\n",
      "-----\n",
      "name dalaran_mage\n",
      "text <b>spell_damage_+1</b>\n",
      "dev -0.381355065275\n",
      "-----\n",
      "name silverback_patriarch\n",
      "text <b>taunt</b>\n",
      "dev -1.18860718963\n",
      "-----\n",
      "name raid_leader\n",
      "text your_other_minions_have_+1_attack.\n",
      "dev -1.19008818905\n",
      "-----\n",
      "name ironforge_rifleman\n",
      "text <b>battlecry:</b>_deal_1_damage.\n",
      "dev -1.19008818905\n",
      "\n",
      "cost 4\n",
      "--------------------\n",
      "mean 4.04188018205\n",
      "std 0.632760165095\n",
      "-----\n",
      "name chillwind_yeti\n",
      "text \n",
      "dev 1.26955155486\n",
      "-----\n",
      "name water_elemental\n",
      "text <b>freeze</b>_any_character_damaged_by_this_minion.\n",
      "dev 1.1814153968\n",
      "-----\n",
      "name oasis_snapjaw\n",
      "text \n",
      "dev 1.09327923874\n",
      "-----\n",
      "name ogre_magi\n",
      "text <b>spell_damage_+1</b>\n",
      "dev 0.459482245737\n",
      "-----\n",
      "name kor'kron_elite\n",
      "text <b>charge</b>\n",
      "dev 0.397522934178\n",
      "-----\n",
      "name stormwind_knight\n",
      "text <b>charge</b>\n",
      "dev 0.221250618056\n",
      "-----\n",
      "name sen'jin_shieldmasta\n",
      "text <b>taunt</b>\n",
      "dev -0.349265017156\n",
      "-----\n",
      "name houndmaster\n",
      "text <b>battlecry:</b>_give_a_friendly_beast_+2/+2_and_<b>taunt</b>.\n",
      "dev -0.350587063385\n",
      "-----\n",
      "name windspeaker\n",
      "text <b>battlecry:</b>_give_a_friendly_minion_<b>windfury</b>.\n",
      "dev -1.24879253057\n",
      "-----\n",
      "name dragonling_mechanic\n",
      "text <b>battlecry:</b>_summon_a_2/1_mechanical_dragonling.\n",
      "dev -1.33692868863\n",
      "-----\n",
      "name gnomish_inventor\n",
      "text <b>battlecry:</b>_draw_a_card.\n",
      "dev -1.33692868863\n",
      "\n",
      "cost 5\n",
      "--------------------\n",
      "mean 4.05552362239\n",
      "std 0.736950512796\n",
      "-----\n",
      "name darkscale_healer\n",
      "text <b>battlecry:</b>_restore_2_health_to_all_friendly_characters.\n",
      "dev 1.07154849261\n",
      "-----\n",
      "name gurubashi_berserker\n",
      "text whenever_this_minion_takes_damage,_gain_+3_attack.\n",
      "dev 0.920197624521\n",
      "-----\n",
      "name booty_bay_bodyguard\n",
      "text <b>taunt</b>\n",
      "dev 0.528493097725\n",
      "-----\n",
      "name nightblade\n",
      "text <b>battlecry:_</b>deal_3_damage_to_the_enemy_hero.\n",
      "dev 0.376007094813\n",
      "-----\n",
      "name frostwolf_warlord\n",
      "text <b>battlecry:</b>_gain_+1/+1_for_each_other_friendly_minion_on_the_battlefield.\n",
      "dev 0.376007094813\n",
      "-----\n",
      "name tundra_rhino\n",
      "text your_beasts_have_<b>charge</b>.\n",
      "dev -0.470885171074\n",
      "-----\n",
      "name stormpike_commando\n",
      "text <b>battlecry:</b>_deal_2_damage.\n",
      "dev -1.01507570078\n",
      "-----\n",
      "name starving_buzzard\n",
      "text whenever_you_summon_a_beast,_draw_a_card.\n",
      "dev -1.78629253262\n",
      "\n",
      "cost 6\n",
      "--------------------\n",
      "mean 5.8714846903\n",
      "std 0.908476367735\n",
      "-----\n",
      "name boulderfist_ogre\n",
      "text \n",
      "dev 1.24997594048\n",
      "-----\n",
      "name dread_infernal\n",
      "text <b>battlecry:</b>_deal_1_damage_to_all_other_characters.\n",
      "dev 0.685756982253\n",
      "-----\n",
      "name fire_elemental\n",
      "text <b>battlecry:</b>_deal_3_damage.\n",
      "dev 0.121538024026\n",
      "-----\n",
      "name archmage\n",
      "text <b>spell_damage_+1</b>\n",
      "dev -0.00123688109267\n",
      "-----\n",
      "name lord_of_the_arena\n",
      "text <b>taunt</b>\n",
      "dev -0.380372667168\n",
      "-----\n",
      "name reckless_rocketeer\n",
      "text <b>charge</b>\n",
      "dev -1.6756613985\n",
      "\n",
      "cost 7\n",
      "--------------------\n",
      "mean 6.92074018246\n",
      "std 0.853738165084\n",
      "-----\n",
      "name core_hound\n",
      "text \n",
      "dev 0.897470537092\n",
      "-----\n",
      "name war_golem\n",
      "text \n",
      "dev 0.766823806734\n",
      "-----\n",
      "name stormwind_champion\n",
      "text your_other_minions_have_+1/+1.\n",
      "dev -0.499288303148\n",
      "-----\n",
      "name guardian_of_kings\n",
      "text <b>battlecry:</b>_restore_6_health_to_your_hero.\n",
      "dev -1.16500604068\n",
      "\n",
      "cost 8\n",
      "--------------------\n",
      "mean 8.20036115999\n",
      "std nan\n",
      "-----\n",
      "name ironbark_protector\n",
      "text <b>taunt</b>\n",
      "dev nan\n"
     ]
    },
    {
     "name": "stderr",
     "output_type": "stream",
     "text": [
      "/Library/Python/2.7/site-packages/IPython/kernel/__main__.py:10: FutureWarning: sort(columns=....) is deprecated, use sort_values(by=.....)\n"
     ]
    }
   ],
   "source": [
    "for i in xrange(0,9):\n",
    "    print\n",
    "    cost = i\n",
    "    mean = df[df['cost'] == i]['predictions'].mean()\n",
    "    std = df[df['cost'] == i]['predictions'].std()\n",
    "    print 'cost', cost\n",
    "    print '-'*20\n",
    "    print 'mean', mean\n",
    "    print 'std', std    \n",
    "    for idx, row in df[df['cost'] == i].sort(columns='predictions', ascending=False).iterrows():\n",
    "        print '-'*5\n",
    "        print 'name', row['name']\n",
    "        print 'text', row['text']\n",
    "        dev = (row['predictions'] - mean) / std\n",
    "        print 'dev', dev\n",
    "#         if abs(dev) > 1.5:\n",
    "#             print row[colss + ['text']]\n",
    "#             print 'dev', dev"
   ]
  },
  {
   "cell_type": "code",
   "execution_count": 75,
   "metadata": {
    "collapsed": false
   },
   "outputs": [
    {
     "name": "stdout",
     "output_type": "stream",
     "text": [
      "      cost  attack  health  charge  taunt  stealth  divine_shield  intercept  \\\n",
      "573   50.0    20.0    20.0       0      0        0              0          1   \n",
      "615   25.0     8.0     8.0       0      0        0              0          1   \n",
      "1404  12.0     8.0     8.0       0      0        0              0          1   \n",
      "2084  12.0     8.0     8.0       0      0        0              0          1   \n",
      "\n",
      "                 name  \n",
      "573          golemagg  \n",
      "615      molten_giant  \n",
      "1404  clockwork_giant  \n",
      "2084   mountain_giant  \n"
     ]
    }
   ],
   "source": [
    "print df[df['cost'] > 10][dep_var + indep_vars + ['name']]"
   ]
  },
  {
   "cell_type": "code",
   "execution_count": 77,
   "metadata": {
    "collapsed": false
   },
   "outputs": [
    {
     "name": "stdout",
     "output_type": "stream",
     "text": [
      "      cost  attack  health  charge  taunt  stealth  divine_shield  intercept  \\\n",
      "47    10.0     1.0    80.0       0      1        0              0          1   \n",
      "573   50.0    20.0    20.0       0      0        0              0          1   \n",
      "680   10.0    12.0    12.0       0      0        0              0          1   \n",
      "871   10.0     2.0    95.0       0      1        0              0          1   \n",
      "1080  10.0    12.0    12.0       0      0        0              0          1   \n",
      "1168   9.0    30.0    30.0       0      0        0              0          1   \n",
      "1196  10.0     9.0    80.0       0      0        0              0          1   \n",
      "1276  10.0    11.0    11.0       0      0        0              0          1   \n",
      "\n",
      "                       name  predictions  \n",
      "47      gearmaster_mechazod    11.951274  \n",
      "573                golemagg    17.768093  \n",
      "680   deathwing,_dragonlord    10.945346  \n",
      "871     gearmaster_mechazod    14.654265  \n",
      "1080              deathwing    10.945346  \n",
      "1168        the_ancient_one    26.296526  \n",
      "1196    overloaded_mechazod    17.769708  \n",
      "1276               thaddius    10.092503  \n"
     ]
    }
   ],
   "source": [
    "print df[df['predictions'] > 10][dep_var + indep_vars + ['name', 'predictions']]"
   ]
  },
  {
   "cell_type": "code",
   "execution_count": 99,
   "metadata": {
    "collapsed": false
   },
   "outputs": [
    {
     "name": "stdout",
     "output_type": "stream",
     "text": [
      "47     0\n",
      "871    0\n",
      "Name: enraged, dtype: int64\n",
      "47     0\n",
      "871    0\n",
      "Name: evil_glow, dtype: int64\n",
      "47     tb\n",
      "871    tb\n",
      "Name: set, dtype: object\n",
      "47     0\n",
      "871    0\n",
      "Name: inspire, dtype: int64\n",
      "47     0\n",
      "871    0\n",
      "Name: durability, dtype: int64\n",
      "47     <b>boss</b>\\nat_the_beginning_of_each_turn,_me...\n",
      "871    <b>boss</b>\\nmechazod_wins_if_he_defeats_eithe...\n",
      "Name: text, dtype: object\n",
      "47     0\n",
      "871    0\n",
      "Name: secret, dtype: int64\n",
      "47     0\n",
      "871    0\n",
      "Name: freeze, dtype: int64\n",
      "47     10.0\n",
      "871    10.0\n",
      "Name: cost, dtype: float64\n",
      "47     0\n",
      "871    0\n",
      "Name: divine_shield, dtype: int64\n",
      "47     0\n",
      "871    0\n",
      "Name: immunetospellpower, dtype: int64\n",
      "47     0\n",
      "871    0\n",
      "Name: adjacent_buff, dtype: int64\n",
      "47              hrw02_1\n",
      "871    tb_coop_mechazod\n",
      "Name: id, dtype: object\n",
      "47     NaN\n",
      "871    NaN\n",
      "Name: playerClass, dtype: object\n",
      "47     0\n",
      "871    0\n",
      "Name: choose_one, dtype: int64\n",
      "47     0\n",
      "871    0\n",
      "Name: ritual, dtype: int64\n",
      "47     0\n",
      "871    0\n",
      "Name: poisonous, dtype: int64\n",
      "47     0\n",
      "871    0\n",
      "Name: ai_must_play, dtype: int64\n",
      "47     0\n",
      "871    0\n",
      "Name: charge, dtype: int64\n",
      "47     0\n",
      "871    0\n",
      "Name: overload, dtype: int64\n",
      "47     1.0\n",
      "871    2.0\n",
      "Name: attack, dtype: float64\n",
      "47     1\n",
      "871    0\n",
      "Name: invisibledeathrattle, dtype: int64\n",
      "47     80.0\n",
      "871    95.0\n",
      "Name: health, dtype: float64\n",
      "47     0\n",
      "871    0\n",
      "Name: spellDamage, dtype: int64\n",
      "47     0\n",
      "871    0\n",
      "Name: combo, dtype: int64\n",
      "47     minion\n",
      "871    minion\n",
      "Name: type, dtype: object\n",
      "47     1\n",
      "871    1\n",
      "Name: taunt, dtype: int64\n",
      "47     0\n",
      "871    0\n",
      "Name: topdeck, dtype: int64\n",
      "47     0\n",
      "871    0\n",
      "Name: forgetful, dtype: int64\n",
      "47     0\n",
      "871    0\n",
      "Name: deathrattle, dtype: int64\n",
      "47     0\n",
      "871    0\n",
      "Name: stealth, dtype: int64\n",
      "47     gearmaster_mechazod\n",
      "871    gearmaster_mechazod\n",
      "Name: name, dtype: object\n",
      "47     NaN\n",
      "871    NaN\n",
      "Name: artist, dtype: object\n",
      "47     0\n",
      "871    0\n",
      "Name: morph, dtype: int64\n",
      "47     0\n",
      "871    0\n",
      "Name: windfury, dtype: int64\n",
      "47     legendary\n",
      "871    legendary\n",
      "Name: rarity, dtype: object\n",
      "47     0\n",
      "871    0\n",
      "Name: tag_one_turn_effect, dtype: int64\n",
      "47     NaN\n",
      "871    NaN\n",
      "Name: race, dtype: object\n",
      "47     0\n",
      "871    0\n",
      "Name: aura, dtype: int64\n",
      "47     0\n",
      "871    0\n",
      "Name: battlecry, dtype: int64\n",
      "47     0\n",
      "871    0\n",
      "Name: silence, dtype: int64\n",
      "47     1\n",
      "871    1\n",
      "Name: intercept, dtype: int64\n",
      "47     11.639116\n",
      "871    14.134335\n",
      "Name: predictions, dtype: float64\n"
     ]
    }
   ],
   "source": [
    "for col in df.columns:\n",
    "    print df[df.name == 'gearmaster_mechazod'][col]"
   ]
  },
  {
   "cell_type": "code",
   "execution_count": 85,
   "metadata": {
    "collapsed": false
   },
   "outputs": [
    {
     "name": "stdout",
     "output_type": "stream",
     "text": [
      "[u'priest', nan, u'warlock', u'rogue', u'shaman', u'hunter', u'paladin', u'warrior', u'druid', u'dream', u'mage']\n"
     ]
    }
   ],
   "source": [
    "print list(df['playerClass'].unique())"
   ]
  },
  {
   "cell_type": "code",
   "execution_count": 86,
   "metadata": {
    "collapsed": false
   },
   "outputs": [
    {
     "name": "stdout",
     "output_type": "stream",
     "text": [
      "      enraged  evil_glow   set  inspire  durability  secret  freeze  cost  \\\n",
      "31          0          0  naxx        0           0       0       0   0.0   \n",
      "47          0          0    tb        0           0       0       0  10.0   \n",
      "475         0          0   brm        0           0       0       0   2.0   \n",
      "910         0          0   brm        0           0       0       0   1.0   \n",
      "916         0          0  naxx        0           0       0       0   3.0   \n",
      "1037        0          0  naxx        0           0       0       0   3.0   \n",
      "1865        0          0   brm        0           0       0       0   2.0   \n",
      "2023        0          0   brm        0           0       0       0   1.0   \n",
      "\n",
      "      divine_shield  immunetospellpower     ...       morph windfury  \\\n",
      "31                0                   0     ...           0        0   \n",
      "47                0                   0     ...           0        0   \n",
      "475               0                   0     ...           0        0   \n",
      "910               0                   0     ...           0        0   \n",
      "916               0                   0     ...           0        0   \n",
      "1037              0                   0     ...           0        0   \n",
      "1865              0                   0     ...           0        0   \n",
      "2023              0                   0     ...           0        0   \n",
      "\n",
      "         rarity  tag_one_turn_effect   race  aura  battlecry  silence  \\\n",
      "31    legendary                    0  beast     0          0        0   \n",
      "47    legendary                    0    NaN     0          0        0   \n",
      "475         NaN                    0    NaN     1          0        0   \n",
      "910         NaN                    0    NaN     0          0        0   \n",
      "916         NaN                    0    NaN     1          0        0   \n",
      "1037        NaN                    0    NaN     1          0        0   \n",
      "1865        NaN                    0    NaN     1          0        0   \n",
      "2023        NaN                    0    NaN     0          0        0   \n",
      "\n",
      "      intercept  predictions  \n",
      "31            1     1.564069  \n",
      "47            1    11.951274  \n",
      "475           1     3.005449  \n",
      "910           1     0.843379  \n",
      "916           1     2.681219  \n",
      "1037          1     1.960529  \n",
      "1865          1     1.828376  \n",
      "2023          1     1.107686  \n",
      "\n",
      "[8 rows x 42 columns]\n"
     ]
    }
   ],
   "source": [
    "print df[df.invisibledeathrattle > 0]"
   ]
  },
  {
   "cell_type": "code",
   "execution_count": 110,
   "metadata": {
    "collapsed": false
   },
   "outputs": [
    {
     "name": "stdout",
     "output_type": "stream",
     "text": [
      "nan <type 'float'>\n"
     ]
    }
   ],
   "source": [
    "l = [type(x) for x in df.text.unique()]\n",
    "for i in df.text.unique():\n",
    "    if isinstance(i, float):\n",
    "        print i, type(i)"
   ]
  },
  {
   "cell_type": "code",
   "execution_count": 121,
   "metadata": {
    "collapsed": false
   },
   "outputs": [
    {
     "name": "stdout",
     "output_type": "stream",
     "text": [
      "Empty DataFrame\n",
      "Columns: [enraged, evil_glow, set, inspire, durability, text, secret, freeze, cost, divine_shield, immunetospellpower, adjacent_buff, id, playerClass, choose_one, ritual, poisonous, ai_must_play, charge, overload, attack, invisibledeathrattle, health, spellDamage, combo, type, taunt, topdeck, forgetful, deathrattle, stealth, name, artist, morph, windfury, rarity, tag_one_turn_effect, race, aura, battlecry, silence]\n",
      "Index: []\n",
      "\n",
      "[0 rows x 41 columns]\n"
     ]
    }
   ],
   "source": [
    "\n",
    "print df[df['text'].isnull() == True]"
   ]
  },
  {
   "cell_type": "code",
   "execution_count": 81,
   "metadata": {
    "collapsed": false
   },
   "outputs": [
    {
     "name": "stdout",
     "output_type": "stream",
     "text": [
      "      cost  attack  health  charge  taunt  stealth  divine_shield  intercept  \\\n",
      "1940   0.0     6.0     6.0       0      1        0              0          1   \n",
      "\n",
      "             name  predictions  set  \n",
      "1940  living_lava     5.811602  brm  \n"
     ]
    }
   ],
   "source": [
    "print df[df['name'] == 'living_lava'][colss + ['set']]"
   ]
  },
  {
   "cell_type": "code",
   "execution_count": 14,
   "metadata": {
    "collapsed": false
   },
   "outputs": [
    {
     "name": "stdout",
     "output_type": "stream",
     "text": [
      "Index([             u'enraged',            u'evil_glow',\n",
      "                        u'set',              u'inspire',\n",
      "                 u'durability',                 u'text',\n",
      "                     u'secret',               u'freeze',\n",
      "                       u'cost',        u'divine_shield',\n",
      "         u'immunetospellpower',        u'adjacent_buff',\n",
      "                         u'id',          u'playerClass',\n",
      "                 u'choose_one',               u'ritual',\n",
      "                  u'poisonous',         u'ai_must_play',\n",
      "                     u'charge',             u'overload',\n",
      "                     u'attack', u'invisibledeathrattle',\n",
      "                     u'health',          u'spellDamage',\n",
      "                      u'combo',                 u'type',\n",
      "                      u'taunt',              u'topdeck',\n",
      "                  u'forgetful',          u'deathrattle',\n",
      "                    u'stealth',                 u'name',\n",
      "                     u'artist',                u'morph',\n",
      "                   u'windfury',               u'rarity',\n",
      "        u'tag_one_turn_effect',                 u'race',\n",
      "                       u'aura',            u'battlecry',\n",
      "                    u'silence',                 u'boss',\n",
      "                  u'intercept',          u'predictions'],\n",
      "      dtype='object')\n"
     ]
    }
   ],
   "source": [
    "print df.columns"
   ]
  },
  {
   "cell_type": "code",
   "execution_count": null,
   "metadata": {
    "collapsed": true
   },
   "outputs": [],
   "source": []
  }
 ],
 "metadata": {
  "kernelspec": {
   "display_name": "Python 2",
   "language": "python",
   "name": "python2"
  },
  "language_info": {
   "codemirror_mode": {
    "name": "ipython",
    "version": 2
   },
   "file_extension": ".py",
   "mimetype": "text/x-python",
   "name": "python",
   "nbconvert_exporter": "python",
   "pygments_lexer": "ipython2",
   "version": "2.7.10"
  }
 },
 "nbformat": 4,
 "nbformat_minor": 0
}
